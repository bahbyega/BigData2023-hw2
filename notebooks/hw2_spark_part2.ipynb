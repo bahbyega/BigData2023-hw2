{
 "cells": [
  {
   "cell_type": "markdown",
   "id": "8575599c-a38b-44fe-b467-4015185adee5",
   "metadata": {},
   "source": [
    "## Part 2"
   ]
  },
  {
   "cell_type": "markdown",
   "id": "c0fa0868-97a7-4547-a593-7beeb36390b2",
   "metadata": {},
   "source": [
    "### Запуск спарк сессии"
   ]
  },
  {
   "cell_type": "code",
   "execution_count": 1,
   "id": "900a76c6-c830-44e0-857a-974c7764d9c4",
   "metadata": {},
   "outputs": [
    {
     "name": "stdout",
     "output_type": "stream",
     "text": [
      "Safe mode is OFF\n"
     ]
    }
   ],
   "source": [
    "!hdfs dfsadmin -safemode leave"
   ]
  },
  {
   "cell_type": "code",
   "execution_count": 2,
   "id": "0faf5a5f-536d-4dab-8050-7928db046de0",
   "metadata": {},
   "outputs": [],
   "source": [
    "from pyspark import SparkContext, SparkConf\n",
    "from pyspark.sql import SparkSession"
   ]
  },
  {
   "cell_type": "code",
   "execution_count": 3,
   "id": "b6a40328-95ef-4b5d-a171-205eaba589dc",
   "metadata": {},
   "outputs": [
    {
     "name": "stderr",
     "output_type": "stream",
     "text": [
      "Setting default log level to \"WARN\".\n",
      "To adjust logging level use sc.setLogLevel(newLevel). For SparkR, use setLogLevel(newLevel).\n",
      "24/02/10 19:31:08 WARN Client: Neither spark.yarn.jars nor spark.yarn.archive is set, falling back to uploading libraries under SPARK_HOME.\n"
     ]
    }
   ],
   "source": [
    "conf = SparkConf().set(\"spark.executor.instances\", \"2\").set(\"spark.executor.cores\", \"1\").set(\"spark.executor.memory\", \"1g\")\n",
    "\n",
    "spark = SparkSession.builder.config(conf=conf).master(master=\"yarn\").appName(\"Porsev_spark\").getOrCreate()"
   ]
  },
  {
   "cell_type": "markdown",
   "id": "af02d3ba-dff8-4ffd-b816-cdc8c5f53884",
   "metadata": {},
   "source": [
    "### Работа с данными"
   ]
  },
  {
   "cell_type": "code",
   "execution_count": 4,
   "id": "7192706c-cbaa-4577-b4a3-364f99b008bf",
   "metadata": {},
   "outputs": [
    {
     "name": "stdout",
     "output_type": "stream",
     "text": [
      "put: `ml-latest-small/README.txt': File exists\n",
      "put: `ml-latest-small/ratings.csv': File exists\n",
      "put: `ml-latest-small/links.csv': File exists\n",
      "put: `ml-latest-small/tags.csv': File exists\n",
      "put: `ml-latest-small/movies.csv': File exists\n"
     ]
    }
   ],
   "source": [
    "!hdfs dfs -put ml-latest-small ."
   ]
  },
  {
   "cell_type": "code",
   "execution_count": 5,
   "id": "e881c343-7d59-4094-bdb9-77f84e6f1882",
   "metadata": {},
   "outputs": [],
   "source": [
    "from pyspark.sql.types import *"
   ]
  },
  {
   "cell_type": "code",
   "execution_count": 13,
   "id": "634ab94d-3552-4265-ab60-7be609cbcc8a",
   "metadata": {},
   "outputs": [
    {
     "name": "stdout",
     "output_type": "stream",
     "text": [
      "Number of lines (rating): 100836\n",
      "Number of lines (tags):  3683\n"
     ]
    }
   ],
   "source": [
    "r_schema = StructType(fields=[\n",
    "    StructField(\"userId\", IntegerType()),\n",
    "    StructField(\"movieId\", IntegerType()),\n",
    "    StructField(\"rating\", DoubleType()),\n",
    "    StructField(\"timestamp\", LongType()),\n",
    "])\n",
    "\n",
    "ratings = spark.read\\\n",
    "               .format(\"csv\")\\\n",
    "               .option(\"header\", \"True\")\\\n",
    "               .schema(r_schema)\\\n",
    "                .load(\"ml-latest-small/ratings.csv\")\n",
    "\n",
    "t_schema = StructType(fields=[\n",
    "    StructField(\"userId\", IntegerType()),\n",
    "    StructField(\"movieId\", IntegerType()),\n",
    "    StructField(\"tag\", StringType()),\n",
    "    StructField(\"timestamp\", LongType()),\n",
    "])\n",
    "\n",
    "tags = spark.read\\\n",
    "            .format(\"csv\")\\\n",
    "            .option(\"header\", \"True\")\\\n",
    "            .schema(t_schema)\\\n",
    "            .load(\"ml-latest-small/tags.csv\")\n",
    "\n",
    "print('Number of lines (rating):', ratings.count())\n",
    "\n",
    "print('Number of lines (tags): ',tags.count())"
   ]
  },
  {
   "cell_type": "markdown",
   "id": "a37ac354-34d0-4295-815b-bd7c3955ba77",
   "metadata": {},
   "source": [
    "Загрузить оставшиеся датасеты"
   ]
  },
  {
   "cell_type": "code",
   "execution_count": 14,
   "id": "e42e4116-92d1-401f-9a68-3d3ce43aa7e8",
   "metadata": {},
   "outputs": [],
   "source": [
    "l_schema = StructType(fields=[\n",
    "    StructField(\"movieId\", IntegerType()),\n",
    "    StructField(\"imdbId\", IntegerType()),\n",
    "    StructField(\"tmdbId\", IntegerType()),\n",
    "])\n",
    "\n",
    "links = spark.read\\\n",
    "               .format(\"csv\")\\\n",
    "               .option(\"header\", \"True\")\\\n",
    "               .schema(l_schema)\\\n",
    "                .load(\"ml-latest-small/links.csv\")\n",
    "\n",
    "m_schema = StructType(fields=[\n",
    "    StructField(\"movieId\", IntegerType()),\n",
    "    StructField(\"title\", StringType()),\n",
    "    StructField(\"genres\", StringType()),\n",
    "])\n",
    "\n",
    "movies = spark.read\\\n",
    "               .format(\"csv\")\\\n",
    "               .option(\"header\", \"True\")\\\n",
    "               .schema(m_schema)\\\n",
    "                .load(\"ml-latest-small/movies.csv\")"
   ]
  },
  {
   "cell_type": "markdown",
   "id": "5552b47e-ec49-4cc1-aeb0-fba8f18774a9",
   "metadata": {},
   "source": [
    "### Задачи"
   ]
  },
  {
   "cell_type": "markdown",
   "id": "f13220db-0486-4294-9c51-fc0de46b981e",
   "metadata": {},
   "source": [
    "Посчитать количество уникальных фильмов и уникальных юзеров в таблице “ratings”. (5 баллов)"
   ]
  },
  {
   "cell_type": "code",
   "execution_count": 22,
   "id": "810da471-e5b7-484f-82f3-6c456a2f7fc7",
   "metadata": {},
   "outputs": [
    {
     "name": "stdout",
     "output_type": "stream",
     "text": [
      "Uniques movies: 9724\n",
      "Uniques users: 610\n"
     ]
    }
   ],
   "source": [
    "unique_movies_count = ratings.select(\"movieId\").distinct().count()\n",
    "print(f\"Uniques movies: {unique_movies_count}\")\n",
    "\n",
    "unique_users_count = ratings.select(\"userId\").distinct().count()\n",
    "print(f\"Uniques users: {unique_users_count}\")"
   ]
  },
  {
   "cell_type": "markdown",
   "id": "b997500b-ef30-4e95-96ac-9b71acf5518a",
   "metadata": {},
   "source": [
    "Посчитать, сколько было поставлено оценок >= 4.0. (5 баллов)"
   ]
  },
  {
   "cell_type": "code",
   "execution_count": 25,
   "id": "dfee46b2-c7b9-47fa-a706-15dbc741b4a7",
   "metadata": {},
   "outputs": [
    {
     "name": "stdout",
     "output_type": "stream",
     "text": [
      "Ratings >= 4.0: 48580\n"
     ]
    }
   ],
   "source": [
    "above4_ratings_count = ratings.filter(ratings[\"rating\"] >= 4.0).count()\n",
    "print(f\"Ratings >= 4.0: {above4_ratings_count}\")"
   ]
  },
  {
   "cell_type": "code",
   "execution_count": 29,
   "id": "3d7af2eb-f311-42f6-a255-f0a6a042e3bd",
   "metadata": {},
   "outputs": [
    {
     "data": {
      "text/plain": [
       "[Row(userId=2, movieId=60756, tag='funny', timestamp=1445714994),\n",
       " Row(userId=2, movieId=60756, tag='Highly quotable', timestamp=1445714996),\n",
       " Row(userId=2, movieId=60756, tag='will ferrell', timestamp=1445714992),\n",
       " Row(userId=2, movieId=89774, tag='Boxing story', timestamp=1445715207),\n",
       " Row(userId=2, movieId=89774, tag='MMA', timestamp=1445715200)]"
      ]
     },
     "execution_count": 29,
     "metadata": {},
     "output_type": "execute_result"
    }
   ],
   "source": [
    "tags.take(5)"
   ]
  },
  {
   "cell_type": "markdown",
   "id": "50b94002-cc71-47b3-8367-f7f67258dc99",
   "metadata": {},
   "source": [
    "Вывести топ100 фильмов с самым высоким рейтингом. (6 баллов)"
   ]
  },
  {
   "cell_type": "code",
   "execution_count": 27,
   "id": "bbbcd1f4-4c2a-47c5-9294-4f5fdd3ec33e",
   "metadata": {},
   "outputs": [
    {
     "name": "stdout",
     "output_type": "stream",
     "text": [
      "+-------+--------------------------------------------------------------------+----------+\n",
      "|movieId|title                                                               |avg_rating|\n",
      "+-------+--------------------------------------------------------------------+----------+\n",
      "|150554 |The Love Bug (1997)                                                 |5.0       |\n",
      "|134796 |Bitter Lake (2015)                                                  |5.0       |\n",
      "|4813   |When Worlds Collide (1951)                                          |5.0       |\n",
      "|67618  |Strictly Sexual (2008)                                              |5.0       |\n",
      "|2972   |Red Sorghum (Hong gao liang) (1987)                                 |5.0       |\n",
      "|78836  |Enter the Void (2009)                                               |5.0       |\n",
      "|26350  |Passenger, The (Professione: reporter) (1975)                       |5.0       |\n",
      "|104780 |Mystery of the Third Planet, The (Tayna tretey planety) (1981)      |5.0       |\n",
      "|136556 |Kung Fu Panda: Secrets of the Masters (2011)                        |5.0       |\n",
      "|44851  |Go for Zucker! (Alles auf Zucker!) (2004)                           |5.0       |\n",
      "|5537   |Satin Rouge (2002)                                                  |5.0       |\n",
      "|1631   |Assignment, The (1997)                                              |5.0       |\n",
      "|467    |Live Nude Girls (1995)                                              |5.0       |\n",
      "|130978 |Love and Pigeons (1985)                                             |5.0       |\n",
      "|131237 |What Men Talk About (2010)                                          |5.0       |\n",
      "|93320  |Trailer Park Boys (1999)                                            |5.0       |\n",
      "|117531 |Watermark (2014)                                                    |5.0       |\n",
      "|136503 |Tom and Jerry: Shiver Me Whiskers (2006)                            |5.0       |\n",
      "|100556 |Act of Killing, The (2012)                                          |5.0       |\n",
      "|5328   |Rain (2001)                                                         |5.0       |\n",
      "|53355  |Sun Alley (Sonnenallee) (1999)                                      |5.0       |\n",
      "|4135   |Monster Squad, The (1987)                                           |5.0       |\n",
      "|172587 |Vacations in Prostokvashino (1980)                                  |5.0       |\n",
      "|163925 |Wings, Legs and Tails (1986)                                        |5.0       |\n",
      "|495    |In the Realm of the Senses (Ai no corrida) (1976)                   |5.0       |\n",
      "|8804   |Story of Women (Affaire de femmes, Une) (1988)                      |5.0       |\n",
      "|5244   |Shogun Assassin (1980)                                              |5.0       |\n",
      "|118270 |Hellbenders (2012)                                                  |5.0       |\n",
      "|4402   |Dr. Goldfoot and the Bikini Machine (1965)                          |5.0       |\n",
      "|95311  |Presto (2008)                                                       |5.0       |\n",
      "|3940   |Slumber Party Massacre III (1990)                                   |5.0       |\n",
      "|114265 |Laggies (2014)                                                      |5.0       |\n",
      "|138632 |Tokyo Tribe (2014)                                                  |5.0       |\n",
      "|173619 |Fugitives (1986)                                                    |5.0       |\n",
      "|5513   |Martin Lawrence Live: Runteldat (2002)                              |5.0       |\n",
      "|8738   |Woman Is a Woman, A (femme est une femme, Une) (1961)               |5.0       |\n",
      "|3531   |All the Vermeers in New York (1990)                                 |5.0       |\n",
      "|128087 |Trinity and Sartana Are Coming (1972)                               |5.0       |\n",
      "|6192   |Open Hearts (Elsker dig for evigt) (2002)                           |5.0       |\n",
      "|6201   |Lady Jane (1986)                                                    |5.0       |\n",
      "|107951 |Hunting Elephants (2013)                                            |5.0       |\n",
      "|158882 |All Yours (2016)                                                    |5.0       |\n",
      "|170597 |A Plasticine Crow (1981)                                            |5.0       |\n",
      "|103602 |Craig Ferguson: I'm Here To Help (2013)                             |5.0       |\n",
      "|72142  |Love Exposure (Ai No Mukidashi) (2008)                              |5.0       |\n",
      "|6408   |Animals are Beautiful People (1974)                                 |5.0       |\n",
      "|172705 |Tickling Giants (2017)                                              |5.0       |\n",
      "|3851   |I'm the One That I Want (2000)                                      |5.0       |\n",
      "|162414 |Moonlight                                                           |5.0       |\n",
      "|93022  |Miss Nobody (2010)                                                  |5.0       |\n",
      "|1310   |Hype! (1996)                                                        |5.0       |\n",
      "|3496   |Madame Sousatzka (1988)                                             |5.0       |\n",
      "|26169  |Branded to Kill (Koroshi no rakuin) (1967)                          |5.0       |\n",
      "|102084 |Justice League: Doom (2012)                                         |5.0       |\n",
      "|25887  |Tales of Manhattan (1942)                                           |5.0       |\n",
      "|126088 |A Flintstones Christmas Carol (1994)                                |5.0       |\n",
      "|3678   |Man with the Golden Arm, The (1955)                                 |5.0       |\n",
      "|136445 |George Carlin: Back in Town (1996)                                  |5.0       |\n",
      "|172637 |Priklyucheniya Kapitana Vrungelya (1979)                            |5.0       |\n",
      "|121781 |Stuart Little 3: Call of the Wild (2005)                            |5.0       |\n",
      "|45503  |Peaceful Warrior (2006)                                             |5.0       |\n",
      "|96832  |Holy Motors (2012)                                                  |5.0       |\n",
      "|157775 |Tenchi Muyô! In Love (1996)                                         |5.0       |\n",
      "|132153 |Buzzard (2015)                                                      |5.0       |\n",
      "|5888   |Brother (Brat) (1997)                                               |5.0       |\n",
      "|164367 |The Girl with All the Gifts (2016)                                  |5.0       |\n",
      "|50999  |Ugly Duckling and Me!, The (2006)                                   |5.0       |\n",
      "|2824   |On the Ropes (1999)                                                 |5.0       |\n",
      "|179133 |Loving Vincent (2017)                                               |5.0       |\n",
      "|26849  |Stand, The (1994)                                                   |5.0       |\n",
      "|69860  |Eichmann (2007)                                                     |5.0       |\n",
      "|175397 |In the blue sea, in the white foam. (1984)                          |5.0       |\n",
      "|84273  |Zeitgeist: Moving Forward (2011)                                    |5.0       |\n",
      "|3942   |Sorority House Massacre II (1990)                                   |5.0       |\n",
      "|138835 |Return to Treasure Island (1988)                                    |5.0       |\n",
      "|3096   |My Man Godfrey (1957)                                               |5.0       |\n",
      "|130970 |George Carlin: Life Is Worth Losing (2005)                          |5.0       |\n",
      "|1140   |Entertaining Angels: The Dorothy Day Story (1996)                   |5.0       |\n",
      "|71268  |Tyler Perry's I Can Do Bad All by Myself (2009)                     |5.0       |\n",
      "|136353 |Scooby-Doo! and the Loch Ness Monster (2004)                        |5.0       |\n",
      "|69469  |Garfield's Pet Force (2009)                                         |5.0       |\n",
      "|115727 |Crippled Avengers (Can que) (Return of the 5 Deadly Venoms) (1981)  |5.0       |\n",
      "|175387 |On the Trail of the Bremen Town Musicians (1973)                    |5.0       |\n",
      "|2512   |Ballad of Narayama, The (Narayama bushiko) (1983)                   |5.0       |\n",
      "|3939   |Slumber Party Massacre II (1987)                                    |5.0       |\n",
      "|145994 |Formula of Love (1984)                                              |5.0       |\n",
      "|99     |Heidi Fleiss: Hollywood Madam (1995)                                |5.0       |\n",
      "|175293 |Gena the Crocodile (1969)                                           |5.0       |\n",
      "|158027 |SORI: Voice from the Heart (2016)                                   |5.0       |\n",
      "|134095 |My Love (2006)                                                      |5.0       |\n",
      "|152711 |Who Killed Chea Vichea? (2010)                                      |5.0       |\n",
      "|136341 |Scooby-Doo! and the Samurai Sword (2009)                            |5.0       |\n",
      "|1349   |Vampire in Venice (Nosferatu a Venezia) (Nosferatu in Venice) (1986)|5.0       |\n",
      "|148    |Awfully Big Adventure, An (1995)                                    |5.0       |\n",
      "|141928 |Bloodsucking Bastards (2015)                                        |5.0       |\n",
      "|88448  |Paper Birds (Pájaros de papel) (2010)                               |5.0       |\n",
      "|27320  |Nine Lives of Tomas Katz, The (2000)                                |5.0       |\n",
      "|3795   |Five Senses, The (1999)                                             |5.0       |\n",
      "|5241   |Seems Like Old Times (1980)                                         |5.0       |\n",
      "|86721  |Idiots and Angels (2008)                                            |5.0       |\n",
      "+-------+--------------------------------------------------------------------+----------+\n",
      "\n"
     ]
    }
   ],
   "source": [
    "from pyspark.sql.functions import avg\n",
    "\n",
    "# Соединим два датафрейма\n",
    "joined = ratings.join(movies, on=\"movieId\")\n",
    "\n",
    "# Вычислим средний рейтинг для каждого фильма\n",
    "avg_ratings = joined.groupBy(\"movieId\", \"title\").agg(avg(\"rating\").alias(\"avg_rating\"))\n",
    "\n",
    "# Получим 100 лучших фильмов\n",
    "top_100_movies = avg_ratings.orderBy(\"avg_rating\", ascending=False).limit(100)\n",
    "top_100_movies.show(100, truncate=False)"
   ]
  },
  {
   "cell_type": "markdown",
   "id": "ce3a1a96-4e69-4323-805c-f44666939612",
   "metadata": {},
   "source": [
    "Посчитать разницу во времени в секундах между временем тегирования пользователя данного фильма и временем, когда пользователь поставил оценку фильму. В качестве ответа выведете среднюю дельту по времени. (7 баллов)"
   ]
  },
  {
   "cell_type": "code",
   "execution_count": 41,
   "id": "4d502e3c-b15f-4285-8a3d-53312c9ea65d",
   "metadata": {},
   "outputs": [
    {
     "name": "stdout",
     "output_type": "stream",
     "text": [
      "Average delta over time (s): 26243727.372266974\n"
     ]
    }
   ],
   "source": [
    "from pyspark.sql.functions import col\n",
    "\n",
    "# Соединим два датафрейма\n",
    "joined = ratings.alias(\"ratings\").join(tags.alias(\"tags\"), on=[\"userId\", \"movieId\"])\n",
    "\n",
    "# # Посчитаем разницу во времени\n",
    "time_diff = joined.withColumn(\"time_diff\", col(\"ratings.timestamp\") - col(\"tags.timestamp\"))\n",
    "\n",
    "# Средняя дельта времени\n",
    "avg_delta = abs(time_diff.selectExpr(\"avg(time_diff) as avg_delta\").collect()[0][\"avg_delta\"])\n",
    "print(\"Average delta over time (s):\", avg_delta)"
   ]
  },
  {
   "cell_type": "markdown",
   "id": "0385775c-d406-4feb-b683-1b063e71ff50",
   "metadata": {},
   "source": [
    "Посчитать среднюю оценку от каждого пользователя, в качестве ответа выведете среднее от всех усредненных оценок всех пользователей. (7 баллов)"
   ]
  },
  {
   "cell_type": "code",
   "execution_count": 44,
   "id": "e88d3c3d-be40-4037-86dc-968c8a6f1efc",
   "metadata": {},
   "outputs": [
    {
     "name": "stdout",
     "output_type": "stream",
     "text": [
      "Average ratings of all users: 3.6572223377474016\n"
     ]
    }
   ],
   "source": [
    "# Средний рейтинг пользователей\n",
    "avg_rating = ratings.groupBy(\"userId\").agg(avg(\"rating\").alias(\"avg_rating\"))\n",
    "\n",
    "# Средний рейтинг всех средних по пользователям\n",
    "overall_avg_rating = avg_rating.select(avg(\"avg_rating\")).collect()[0][0]\n",
    "print(\"Average ratings of all users:\", overall_avg_rating)"
   ]
  }
 ],
 "metadata": {
  "kernelspec": {
   "display_name": "Python 3 (ipykernel)",
   "language": "python",
   "name": "python3"
  },
  "language_info": {
   "codemirror_mode": {
    "name": "ipython",
    "version": 3
   },
   "file_extension": ".py",
   "mimetype": "text/x-python",
   "name": "python",
   "nbconvert_exporter": "python",
   "pygments_lexer": "ipython3",
   "version": "3.10.12"
  }
 },
 "nbformat": 4,
 "nbformat_minor": 5
}
