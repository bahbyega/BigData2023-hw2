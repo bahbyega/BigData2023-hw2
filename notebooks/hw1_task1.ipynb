{
 "cells": [
  {
   "cell_type": "markdown",
   "id": "57feb635-ddf0-412c-9e7c-743bb16d456d",
   "metadata": {},
   "source": [
    "Скриншоты развернутого кластера представлены в папке `$REPOROOT/demo/"
   ]
  },
  {
   "cell_type": "markdown",
   "id": "a7b4db83-a98d-4a6b-944f-86c0126f25bb",
   "metadata": {},
   "source": [
    "### Загрузить любой файл с данными на hdfs."
   ]
  },
  {
   "cell_type": "code",
   "execution_count": null,
   "id": "0b20bf81-d4b4-4d71-8bf4-3a0ee81f0eef",
   "metadata": {
    "scrolled": true
   },
   "outputs": [],
   "source": [
    "!hadoop fs -mkdir /hw1"
   ]
  },
  {
   "cell_type": "code",
   "execution_count": 8,
   "id": "ccca8c5e-65b2-4c5f-884e-30156da51345",
   "metadata": {},
   "outputs": [],
   "source": [
    "!hadoop fs -put data.txt /hw1"
   ]
  },
  {
   "cell_type": "markdown",
   "id": "bd8e8ba4-27ac-4fbe-aecc-04606682d5ca",
   "metadata": {},
   "source": [
    "### В отдельных ячейках выполнить команду !hadoop fs -ls (путь до файла) + !hadoop fs -cat"
   ]
  },
  {
   "cell_type": "code",
   "execution_count": 9,
   "id": "91443ae0-abfb-4b1d-b3f0-cb6ad1988a5d",
   "metadata": {},
   "outputs": [
    {
     "name": "stdout",
     "output_type": "stream",
     "text": [
      "Found 1 items\n",
      "-rw-r--r--   3 root supergroup       4001 2024-02-06 22:07 /hw1/data.txt\n"
     ]
    }
   ],
   "source": [
    "!hadoop fs -ls /hw1"
   ]
  },
  {
   "cell_type": "code",
   "execution_count": 10,
   "id": "665b29d7-0933-4aac-8848-f2a8d52f30b0",
   "metadata": {},
   "outputs": [
    {
     "name": "stdout",
     "output_type": "stream",
     "text": [
      "Happy happy happy!\n",
      "\n",
      "⠀⠀⠀⠀⠀⠀⠀⠀⠀⠀⠀⠀⠀⠀⠀⠀⠀⠀⠀⠀⠀⠀⠀⠀⠀⠀⢀⣴⣿⣿⡷⣄⠀⠀⠀⠀⠀⠀⠀⠀⠀⠀⠀⠀⠀⠀⠀⠀⠀⠀⠀⠀⠀⠀⠀⠀⠀⠀⠀⠀⠀⠀⠀⠀⠀\n",
      "⠀⠀⠀⠀⠀⠀⠀⠀⠀⠀⠀⠀⠀⠀⠀⠀⠀⠀⠀⠀⠀⠀⠀⠀⢀⣴⣿⡿⠋⠈⠻⣮⣳⡀⠀⠀⠀⠀⠀⠀⠀⠀⠀⠀⠀⠀⠀⠀⠀⠀⠀⠀⠀⠀⠀⠀⠀⠀⠀⠀⠀⠀⠀⠀⠀\n",
      "⠀⠀⠀⠀⠀⠀⠀⠀⠀⠀⠀⠀⠀⠀⠀⠀⠀⠀⠀⠀⠀⢀⣠⣴⣾⡿⠋⠀⠀⠀⠀⠙⣿⣿⣤⣀⡀⠀⠀⠀⠀⠀⠀⠀⠀⠀⠀⠀⠀⠀⠀⠀⠀⠀⠀⠀⠀⠀⠀⠀⠀⠀⠀⠀⠀\n",
      "⠀⠀⠀⠀⠀⠀⠀⠀⠀⠀⠀⠀⠀⠀⠀⠀⠀⢀⣤⣶⣿⡿⠟⠛⠉⠀⠀⠀⠀⠀⠀⠀⠈⠛⠛⠿⠿⣿⣷⣶⣤⣄⣀⠀⠀⠀⠀⠀⠀⠀⠀⠀⠀⠀⠀⠀⠀⠀⠀⠀⠀⠀⠀⠀⠀\n",
      "⠀⠀⠀⠀⠀⠀⠀⠀⠀⠀⠀⠀⠀⠀⣠⣴⣾⡿⠟⠋⠁⠀⠀⠀⠀⠀⠀⠀⠀⠀⠀⠀⠀⠀⠀⠀⠀⠀⠈⠉⠛⠻⠿⣿⣶⣦⣄⡀⠀⠀⠀⠀⠀⠀⠀⠀⠀⠀⠀⠀⠀⠀⠀⠀⠀\n",
      "⠀⠀⠀⣀⣠⣤⣤⣀⡀⠀⠀⣀⣴⣿⡿⠛⠁⠀⠀⠀⠀⠀⠀⠀⠀⠀⠀⠀⠀⠀⠀⠀⠀⠀⠀⠀⠀⠀⠀⠀⠀⠀⠀⠀⠉⠛⠿⣿⣷⣦⣄⡀⠀⠀⠀⠀⠀⠀⠀⢀⣀⣤⣄⠀⠀\n",
      "⢀⣤⣾⡿⠟⠛⠛⢿⣿⣶⣾⣿⠟⠉⠀⠀⠀⠀⠀⠀⠀⠀⠀⠀⠀⠀⠀⠀⠀⠀⠀⠀⠀⠀⠀⠀⠀⠀⠀⠀⠀⠀⠀⠀⠀⠀⠀⠀⠉⠛⠿⣿⣷⣦⣀⣀⣤⣶⣿⡿⠿⢿⣿⡀⠀\n",
      "⣿⣿⠏⠀⢰⡆⠀⠀⠉⢿⣿⡀⠀⠀⠀⠀⠀⠀⠀⠀⠀⠀⠀⠀⠀⠀⠀⠀⠀⠀⠀⠀⠀⠀⠀⠀⠀⠀⠀⠀⠀⠀⠀⠀⠀⠀⠀⠀⠀⠀⠀⠀⠙⠻⢿⡿⠟⠋⠁⠀⠀⢸⣿⠇⠀\n",
      "⣿⡟⠀⣀⠈⣀⡀⠒⠃⠀⠙⣿⡆⠀⠀⠀⠀⠀⠀⠀⣀⡀⠀⠀⠀⠀⠀⠀⠀⠀⠀⠀⠀⠀⠀⠀⠀⠀⠀⠀⠀⠀⠀⠀⠀⠀⠀⠀⠀⠀⠀⠀⠀⠀⠀⠀⠀⠀⠀⠀⠀⢸⣿⠇⠀\n",
      "⣿⡇⠀⠛⢠⡋⢙⡆⠀⠀⠀⠀⠀⠀⠀⠀⠀⠀⠀⣾⣿⣿⠄⠀⠀⠀⠀⠀⠀⠀⠀⠀⠀⠀⠀⠀⠀⠀⠀⠀⠀⠀⠀⠀⠀⠀⠀⠀⠀⠀⠀⠀⠀⠀⠀⠀⠀⠀⠀⠀⠀⣿⣿⠀⠀\n",
      "⣿⣧⠀⠀⠀⠓⠛⠁⠀⠀⠀⠀⠀⠀⠀⠀⠀⠀⠀⠘⠛⠋⠀⠀⢸⣧⣤⣤⣶⡀⠀⠀⠀⠀⠀⠀⠀⠀⠀⠀⠀⠀⠀⠀⠀⠀⠀⠀⠀⠀⠀⠀⠀⠀⠀⠀⠀⠀⠀⠀⢰⣿⡿⠀⠀\n",
      "⣿⣿⣤⣀⡀⠀⠀⠀⠀⠀⠀⠀⠀⠀⠀⠀⠀⠀⠀⠀⠀⠀⠀⠀⠀⠉⠉⠉⠻⣷⣶⣶⡆⠀⠀⠀⠀⠀⠀⠀⠀⠀⠀⠀⠀⠀⠀⠀⠀⠀⠀⠀⠀⠀⠀⠀⠀⠀⠀⢀⣿⣿⠁⠀⠀\n",
      "⠈⠛⠻⠿⢿⣿⣷⣶⣦⣤⣄⣀⡀⠀⠀⠀⠀⠀⠀⠀⠀⠀⠀⠀⠀⠀⠀⠀⠀⠀⠀⠀⠀⠀⠀⠀⠀⠀⠀⣴⣿⣷⠀⠀⠀⠀⠀⠀⠀⠀⠀⠀⠀⠀⠀⠀⠀⠀⠀⣾⣿⡏⠀⠀⠀\n",
      "⠀⠀⠀⠀⠀⠀⠀⠉⠙⠛⠻⠿⢿⣿⣷⣶⣦⣤⣄⣀⡀⠀⠀⠀⠀⠀⠀⠀⠀⠀⠀⠀⠀⠀⠀⠀⠀⠀⠀⠙⠿⠛⠀⠀⠀⠀⠀⠀⠀⠀⠀⠀⠀⠀⠀⠀⠀⠀⠀⠘⢿⣿⡄⠀⠀\n",
      "⠀⠀⠀⠀⠀⠀⠀⠀⠀⠀⠀⠀⠀⠀⠈⠉⠙⠛⠻⠿⢿⣿⣷⣶⣦⣤⣄⣀⡀⠀⠀⠀⠀⠀⠀⠀⠀⠀⠀⠀⠀⠀⠀⠀⠀⠀⠀⠀⠀⠀⠀⠀⠀⠀⠀⠀⠀⠀⠀⠀⠈⢿⣿⡄⠀\n",
      "⠀⠀⠀⠀⠀⠀⠀⠀⠀⠀⠀⠀⠀⠀⠀⠀⠀⠀⠀⠀⠀⠀⠀⠉⠉⠛⠛⠿⠿⣿⣷⣶⣶⣤⣤⣀⡀⠀⠀⠀⢀⣴⡆⠀⠀⠀⠀⠀⠀⠀⠀⠀⠀⠀⠀⠀⠀⠀⠀⠀⠀⠈⢿⡿⣄\n",
      "⠀⠀⠀⠀⠀⠀⠀⠀⠀⠀⠀⠀⠀⠀⠀⠀⠀⠀⠀⠀⠀⠀⠀⠀⠀⠀⠀⠀⠀⠀⠀⠉⠉⠛⠛⠿⠿⣿⣷⣶⡿⠋⠀⠀⠀⠀⠀⠀⠀⠀⠀⠀⠀⠀⠀⠀⠀⠀⠀⠀⠀⠀⠈⣿⣹\n",
      "⠀⠀⠀⠀⠀⠀⠀⠀⠀⠀⠀⠀⠀⠀⠀⠀⠀⠀⠀⠀⠀⠀⠀⠀⠀⠀⠀⠀⠀⠀⠀⠀⠀⠀⠀⠀⠀⠀⣿⣿⠃⠀⠀⠀⠀⠀⠀⠀⠀⠀⠀⠀⠀⠀⢀⣀⣀⠀⠀⠀⠀⠀⠀⢸⣧\n",
      "⠀⠀⠀⠀⠀⠀⠀⠀⠀⠀⠀⠀⠀⠀⠀⠀⠀⠀⠀⠀⠀⠀⠀⠀⠀⠀⠀⠀⠀⠀⠀⠀⠀⠀⠀⠀⠀⠀⢻⣿⣆⠀⠀⠀⠀⠀⠀⢀⣀⣠⣤⣶⣾⣿⣿⣿⣿⣤⣄⣀⡀⠀⠀⠀⣿\n",
      "⠀⠀⠀⠀⠀⠀⠀⠀⠀⠀⠀⠀⠀⠀⠀⠀⠀⠀⠀⠀⠀⠀⠀⠀⠀⠀⠀⠀⠀⠀⠀⠀⠀⠀⠀⠀⠀⠀⠈⠻⢿⣻⣷⣶⣾⣿⣿⡿⢯⣛⣛⡋⠁⠀⠀⠉⠙⠛⠛⠿⣿⣿⡷⣶⣿\n",
      "\n",
      "Solution for HW1 by Denis Porsev @HSE"
     ]
    }
   ],
   "source": [
    "!hadoop fs -cat /hw1/data.txt"
   ]
  },
  {
   "cell_type": "markdown",
   "id": "859e7613-459c-42af-b6cd-39e8ffd07d3c",
   "metadata": {},
   "source": [
    "### Запустить команду !hadoop jar /opt/hadoop/share/hadoop/mapreduce/hadoop-mapreduce-examples-3.3.6.jar pi 15 1800"
   ]
  },
  {
   "cell_type": "code",
   "execution_count": 11,
   "id": "1607f2e3-1e1d-4f38-9521-d9f398020d75",
   "metadata": {},
   "outputs": [
    {
     "name": "stdout",
     "output_type": "stream",
     "text": [
      "Number of Maps  = 15\n",
      "Samples per Map = 1800\n",
      "Wrote input for Map #0\n",
      "Wrote input for Map #1\n",
      "Wrote input for Map #2\n",
      "Wrote input for Map #3\n",
      "Wrote input for Map #4\n",
      "Wrote input for Map #5\n",
      "Wrote input for Map #6\n",
      "Wrote input for Map #7\n",
      "Wrote input for Map #8\n",
      "Wrote input for Map #9\n",
      "Wrote input for Map #10\n",
      "Wrote input for Map #11\n",
      "Wrote input for Map #12\n",
      "Wrote input for Map #13\n",
      "Wrote input for Map #14\n",
      "Starting Job\n",
      "2024-02-06 22:11:27 INFO  DefaultNoHARMFailoverProxyProvider:64 - Connecting to ResourceManager at resourcemanager/172.18.0.3:8032\n",
      "2024-02-06 22:11:29 INFO  JobResourceUploader:907 - Disabling Erasure Coding for path: /tmp/hadoop-yarn/staging/root/.staging/job_1707060155216_0001\n",
      "2024-02-06 22:11:29 INFO  FileInputFormat:300 - Total input files to process : 15\n",
      "2024-02-06 22:11:29 INFO  JobSubmitter:202 - number of splits:15\n",
      "2024-02-06 22:11:29 INFO  JobSubmitter:298 - Submitting tokens for job: job_1707060155216_0001\n",
      "2024-02-06 22:11:29 INFO  JobSubmitter:299 - Executing with tokens: []\n",
      "2024-02-06 22:11:30 INFO  Configuration:2854 - resource-types.xml not found\n",
      "2024-02-06 22:11:30 INFO  ResourceUtils:476 - Unable to find 'resource-types.xml'.\n",
      "2024-02-06 22:11:31 INFO  YarnClientImpl:338 - Submitted application application_1707060155216_0001\n",
      "2024-02-06 22:11:31 INFO  Job:1682 - The url to track the job: http://resourcemanager:8088/proxy/application_1707060155216_0001/\n",
      "2024-02-06 22:11:31 INFO  Job:1727 - Running job: job_1707060155216_0001\n",
      "2024-02-06 22:11:52 INFO  Job:1748 - Job job_1707060155216_0001 running in uber mode : false\n",
      "2024-02-06 22:11:52 INFO  Job:1755 -  map 0% reduce 0%\n",
      "2024-02-06 22:12:03 INFO  Job:1755 -  map 13% reduce 0%\n",
      "2024-02-06 22:12:04 INFO  Job:1755 -  map 20% reduce 0%\n",
      "2024-02-06 22:12:08 INFO  Job:1755 -  map 27% reduce 0%\n",
      "2024-02-06 22:12:09 INFO  Job:1755 -  map 33% reduce 0%\n",
      "2024-02-06 22:12:10 INFO  Job:1755 -  map 40% reduce 0%\n",
      "2024-02-06 22:12:15 INFO  Job:1755 -  map 47% reduce 0%\n",
      "2024-02-06 22:12:16 INFO  Job:1755 -  map 53% reduce 0%\n",
      "2024-02-06 22:12:17 INFO  Job:1755 -  map 60% reduce 0%\n",
      "2024-02-06 22:12:22 INFO  Job:1755 -  map 67% reduce 0%\n",
      "2024-02-06 22:12:23 INFO  Job:1755 -  map 73% reduce 0%\n",
      "2024-02-06 22:12:28 INFO  Job:1755 -  map 80% reduce 0%\n",
      "2024-02-06 22:12:29 INFO  Job:1755 -  map 87% reduce 0%\n",
      "2024-02-06 22:12:31 INFO  Job:1755 -  map 87% reduce 29%\n",
      "2024-02-06 22:12:34 INFO  Job:1755 -  map 93% reduce 29%\n",
      "2024-02-06 22:12:35 INFO  Job:1755 -  map 100% reduce 29%\n",
      "2024-02-06 22:12:37 INFO  Job:1755 -  map 100% reduce 100%\n",
      "2024-02-06 22:12:37 INFO  Job:1766 - Job job_1707060155216_0001 completed successfully\n",
      "2024-02-06 22:12:37 INFO  Job:1773 - Counters: 54\n",
      "\tFile System Counters\n",
      "\t\tFILE: Number of bytes read=336\n",
      "\t\tFILE: Number of bytes written=4461026\n",
      "\t\tFILE: Number of read operations=0\n",
      "\t\tFILE: Number of large read operations=0\n",
      "\t\tFILE: Number of write operations=0\n",
      "\t\tHDFS: Number of bytes read=3875\n",
      "\t\tHDFS: Number of bytes written=215\n",
      "\t\tHDFS: Number of read operations=65\n",
      "\t\tHDFS: Number of large read operations=0\n",
      "\t\tHDFS: Number of write operations=3\n",
      "\t\tHDFS: Number of bytes read erasure-coded=0\n",
      "\tJob Counters \n",
      "\t\tLaunched map tasks=15\n",
      "\t\tLaunched reduce tasks=1\n",
      "\t\tRack-local map tasks=15\n",
      "\t\tTotal time spent by all maps in occupied slots (ms)=145046\n",
      "\t\tTotal time spent by all reduces in occupied slots (ms)=41874\n",
      "\t\tTotal time spent by all map tasks (ms)=72523\n",
      "\t\tTotal time spent by all reduce tasks (ms)=20937\n",
      "\t\tTotal vcore-milliseconds taken by all map tasks=72523\n",
      "\t\tTotal vcore-milliseconds taken by all reduce tasks=20937\n",
      "\t\tTotal megabyte-milliseconds taken by all map tasks=74263552\n",
      "\t\tTotal megabyte-milliseconds taken by all reduce tasks=21439488\n",
      "\tMap-Reduce Framework\n",
      "\t\tMap input records=15\n",
      "\t\tMap output records=30\n",
      "\t\tMap output bytes=270\n",
      "\t\tMap output materialized bytes=420\n",
      "\t\tInput split bytes=2105\n",
      "\t\tCombine input records=0\n",
      "\t\tCombine output records=0\n",
      "\t\tReduce input groups=2\n",
      "\t\tReduce shuffle bytes=420\n",
      "\t\tReduce input records=30\n",
      "\t\tReduce output records=0\n",
      "\t\tSpilled Records=60\n",
      "\t\tShuffled Maps =15\n",
      "\t\tFailed Shuffles=0\n",
      "\t\tMerged Map outputs=15\n",
      "\t\tGC time elapsed (ms)=1257\n",
      "\t\tCPU time spent (ms)=9090\n",
      "\t\tPhysical memory (bytes) snapshot=4190892032\n",
      "\t\tVirtual memory (bytes) snapshot=41106911232\n",
      "\t\tTotal committed heap usage (bytes)=3413639168\n",
      "\t\tPeak Map Physical memory (bytes)=284524544\n",
      "\t\tPeak Map Virtual memory (bytes)=2573164544\n",
      "\t\tPeak Reduce Physical memory (bytes)=182845440\n",
      "\t\tPeak Reduce Virtual memory (bytes)=2576478208\n",
      "\tShuffle Errors\n",
      "\t\tBAD_ID=0\n",
      "\t\tCONNECTION=0\n",
      "\t\tIO_ERROR=0\n",
      "\t\tWRONG_LENGTH=0\n",
      "\t\tWRONG_MAP=0\n",
      "\t\tWRONG_REDUCE=0\n",
      "\tFile Input Format Counters \n",
      "\t\tBytes Read=1770\n",
      "\tFile Output Format Counters \n",
      "\t\tBytes Written=97\n",
      "Job Finished in 69.846 seconds\n",
      "Estimated value of Pi is 3.14162962962962962963\n"
     ]
    }
   ],
   "source": [
    "!hadoop jar /opt/hadoop/share/hadoop/mapreduce/hadoop-mapreduce-examples-3.3.6.jar pi 15 1800"
   ]
  },
  {
   "cell_type": "code",
   "execution_count": null,
   "id": "644d2906-74e2-410b-9724-3ee552138d2f",
   "metadata": {},
   "outputs": [],
   "source": []
  }
 ],
 "metadata": {
  "kernelspec": {
   "display_name": "Python 3 (ipykernel)",
   "language": "python",
   "name": "python3"
  },
  "language_info": {
   "codemirror_mode": {
    "name": "ipython",
    "version": 3
   },
   "file_extension": ".py",
   "mimetype": "text/x-python",
   "name": "python",
   "nbconvert_exporter": "python",
   "pygments_lexer": "ipython3",
   "version": "3.10.12"
  }
 },
 "nbformat": 4,
 "nbformat_minor": 5
}
