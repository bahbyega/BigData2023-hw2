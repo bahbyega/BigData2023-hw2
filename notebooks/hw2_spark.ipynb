{
 "cells": [
  {
   "cell_type": "markdown",
   "id": "8575599c-a38b-44fe-b467-4015185adee5",
   "metadata": {},
   "source": [
    "## Part 1"
   ]
  },
  {
   "cell_type": "markdown",
   "id": "7f477b29-7a05-442e-be19-60dd6f7c7bbd",
   "metadata": {},
   "source": [
    "Кластер развернут"
   ]
  },
  {
   "cell_type": "markdown",
   "id": "c0fa0868-97a7-4547-a593-7beeb36390b2",
   "metadata": {},
   "source": [
    "### Запуск спарк сессии"
   ]
  },
  {
   "cell_type": "code",
   "execution_count": 23,
   "id": "900a76c6-c830-44e0-857a-974c7764d9c4",
   "metadata": {},
   "outputs": [
    {
     "name": "stdout",
     "output_type": "stream",
     "text": [
      "Safe mode is OFF\n"
     ]
    }
   ],
   "source": [
    "!hdfs dfsadmin -safemode leave"
   ]
  },
  {
   "cell_type": "code",
   "execution_count": 2,
   "id": "0faf5a5f-536d-4dab-8050-7928db046de0",
   "metadata": {},
   "outputs": [],
   "source": [
    "from pyspark import SparkContext, SparkConf\n",
    "from pyspark.sql import SparkSession"
   ]
  },
  {
   "cell_type": "code",
   "execution_count": 3,
   "id": "b6a40328-95ef-4b5d-a171-205eaba589dc",
   "metadata": {},
   "outputs": [
    {
     "name": "stderr",
     "output_type": "stream",
     "text": [
      "Setting default log level to \"WARN\".\n",
      "To adjust logging level use sc.setLogLevel(newLevel). For SparkR, use setLogLevel(newLevel).\n",
      "24/02/08 01:18:41 WARN Client: Neither spark.yarn.jars nor spark.yarn.archive is set, falling back to uploading libraries under SPARK_HOME.\n"
     ]
    }
   ],
   "source": [
    "conf = SparkConf().set(\"spark.executor.instances\", \"2\").set(\"spark.executor.cores\", \"1\").set(\"spark.executor.memory\", \"1g\")\n",
    "\n",
    "spark = SparkSession.builder.config(conf=conf).master(master=\"yarn\").appName(\"Porsev_spark\").getOrCreate()"
   ]
  },
  {
   "cell_type": "markdown",
   "id": "af02d3ba-dff8-4ffd-b816-cdc8c5f53884",
   "metadata": {},
   "source": [
    "### Работа с таблицами ratings, tags из директории ml-latest-small"
   ]
  },
  {
   "cell_type": "code",
   "execution_count": 30,
   "id": "7192706c-cbaa-4577-b4a3-364f99b008bf",
   "metadata": {},
   "outputs": [
    {
     "name": "stdout",
     "output_type": "stream",
     "text": [
      "put: `ml-latest-small/README.txt': File exists\n",
      "put: `ml-latest-small/ratings.csv': File exists\n",
      "put: `ml-latest-small/links.csv': File exists\n",
      "put: `ml-latest-small/tags.csv': File exists\n",
      "put: `ml-latest-small/movies.csv': File exists\n"
     ]
    }
   ],
   "source": [
    "!hdfs dfs -put ml-latest-small ."
   ]
  },
  {
   "cell_type": "code",
   "execution_count": 28,
   "id": "e881c343-7d59-4094-bdb9-77f84e6f1882",
   "metadata": {},
   "outputs": [],
   "source": [
    "from pyspark.sql.types import *"
   ]
  },
  {
   "cell_type": "code",
   "execution_count": 29,
   "id": "9768f0e8-d391-426d-8177-1ba3a8a5967e",
   "metadata": {},
   "outputs": [
    {
     "name": "stderr",
     "output_type": "stream",
     "text": [
      "                                                                                \r"
     ]
    },
    {
     "name": "stdout",
     "output_type": "stream",
     "text": [
      "Number of lines (rating): 100836\n"
     ]
    },
    {
     "name": "stderr",
     "output_type": "stream",
     "text": [
      "[Stage 3:>                                                          (0 + 1) / 1]\r"
     ]
    },
    {
     "name": "stdout",
     "output_type": "stream",
     "text": [
      "Number of lines (tags):  3683\n"
     ]
    },
    {
     "name": "stderr",
     "output_type": "stream",
     "text": [
      "                                                                                \r"
     ]
    }
   ],
   "source": [
    "r_schema = StructType(fields=[\n",
    "    StructField(\"userId\", IntegerType()),\n",
    "    StructField(\"movieId\", IntegerType()),\n",
    "    StructField(\"rating\", DoubleType()),\n",
    "    StructField(\"timestamp\", LongType()),\n",
    "])\n",
    "\n",
    "ratings = spark.read\\\n",
    "               .format(\"csv\")\\\n",
    "               .option(\"header\", \"True\")\\\n",
    "               .schema(r_schema)\\\n",
    "                .load(\"ml-latest-small/ratings.csv\")\n",
    "\n",
    "t_schema = StructType(fields=[\n",
    "    StructField(\"userId\", IntegerType()),\n",
    "    StructField(\"movieId\", IntegerType()),\n",
    "    StructField(\"tag\", DoubleType()),\n",
    "    StructField(\"timestamp\", LongType()),\n",
    "])\n",
    "\n",
    "tags = spark.read\\\n",
    "            .format(\"csv\")\\\n",
    "            .option(\"header\", \"True\")\\\n",
    "            .schema(t_schema)\\\n",
    "            .load(\"ml-latest-small/tags.csv\")\n",
    "\n",
    "print('Number of lines (rating):', ratings.count())\n",
    "\n",
    "print('Number of lines (tags): ',tags.count())"
   ]
  },
  {
   "cell_type": "code",
   "execution_count": null,
   "id": "e9ed8a70-a2c4-42ac-b1da-46cb61dd2450",
   "metadata": {},
   "outputs": [],
   "source": []
  }
 ],
 "metadata": {
  "kernelspec": {
   "display_name": "Python 3 (ipykernel)",
   "language": "python",
   "name": "python3"
  },
  "language_info": {
   "codemirror_mode": {
    "name": "ipython",
    "version": 3
   },
   "file_extension": ".py",
   "mimetype": "text/x-python",
   "name": "python",
   "nbconvert_exporter": "python",
   "pygments_lexer": "ipython3",
   "version": "3.10.12"
  }
 },
 "nbformat": 4,
 "nbformat_minor": 5
}
